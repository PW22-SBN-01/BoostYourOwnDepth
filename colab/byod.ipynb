{
 "cells": [
  {
   "cell_type": "markdown",
   "metadata": {},
   "source": [
    "This Colab Notebook helps you applying the boosting method from https://github.com/compphoto/BoostingMonocularDepth \n",
    "on your own depth.\n",
    "\n",
    "Instructions:\n",
    "\n",
    "1. Ensure using a GPU by setting \"Runtime/change runtime type\" to GPU\n",
    "2. Run code section 1\n",
    "3. Put your low-resolution base depth inside /content/BoostYourOwnDepth/input/low-res\n",
    "4. (If you don't have an R20/high-resolution depth estimate yet, run section 2)\n",
    "4. Put your high-resolution depth inside /content/BoostYourOwnDepth/input/high-res\n",
    "5. Run code section 3\n",
    "    \n",
    "The results will be generated in /content/outputs folders.\n"
   ]
  },
  {
   "cell_type": "code",
   "execution_count": null,
   "metadata": {},
   "outputs": [],
   "source": [
    "# Code section 1\n",
    "\n",
    "# Clone repo\n",
    "!git clone https://github.com/compphoto/BoostYourOwnDepth.git\n",
    "\n",
    "# Downloading merge model weights\n",
    "# !wget https://sfu.ca/~yagiz/CVPR21/latest_net_G.pth\n",
    "!gdown https://drive.google.com/u/0/uc?id=1cU2y-kMbt0Sf00Ns4CN2oO9qPJ8BensP&export=download\n",
    "\n",
    "!mkdir -p /content/BoostYourOwnDepth/pix2pix/checkpoints/mergemodel/\n",
    "!mv latest_net_G.pth /content/BoostYourOwnDepth/pix2pix/checkpoints/mergemodel/\n"
   ]
  },
  {
   "cell_type": "code",
   "execution_count": null,
   "metadata": {},
   "outputs": [],
   "source": []
  }
 ],
 "metadata": {
  "language_info": {
   "name": "python"
  },
  "orig_nbformat": 4
 },
 "nbformat": 4,
 "nbformat_minor": 2
}
